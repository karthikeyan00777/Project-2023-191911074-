{
  "cells": [
    {
      "cell_type": "markdown",
      "metadata": {
        "id": "view-in-github",
        "colab_type": "text"
      },
      "source": [
        "<a href=\"https://colab.research.google.com/github/karthikeyan00777/Project-2023-191911074-/blob/main/Copy_of_Assignment.ipynb\" target=\"_parent\"><img src=\"https://colab.research.google.com/assets/colab-badge.svg\" alt=\"Open In Colab\"/></a>"
      ]
    },
    {
      "cell_type": "code",
      "execution_count": null,
      "metadata": {
        "colab": {
          "background_save": true,
          "base_uri": "https://localhost:8080/"
        },
        "id": "FBycag4T5B2K",
        "outputId": "3c91eeac-b112-4fd6-d46e-359785c027b4"
      },
      "outputs": [
        {
          "name": "stdout",
          "output_type": "stream",
          "text": [
            "Looking in indexes: https://pypi.org/simple, https://us-python.pkg.dev/colab-wheels/public/simple/\n",
            "Requirement already satisfied: gdown in /usr/local/lib/python3.8/dist-packages (4.4.0)\n",
            "Requirement already satisfied: beautifulsoup4 in /usr/local/lib/python3.8/dist-packages (from gdown) (4.6.3)\n",
            "Requirement already satisfied: six in /usr/local/lib/python3.8/dist-packages (from gdown) (1.15.0)\n",
            "Requirement already satisfied: filelock in /usr/local/lib/python3.8/dist-packages (from gdown) (3.9.0)\n",
            "Requirement already satisfied: tqdm in /usr/local/lib/python3.8/dist-packages (from gdown) (4.64.1)\n",
            "Requirement already satisfied: requests[socks] in /usr/local/lib/python3.8/dist-packages (from gdown) (2.25.1)\n",
            "Requirement already satisfied: certifi>=2017.4.17 in /usr/local/lib/python3.8/dist-packages (from requests[socks]->gdown) (2022.12.7)\n",
            "Requirement already satisfied: chardet<5,>=3.0.2 in /usr/local/lib/python3.8/dist-packages (from requests[socks]->gdown) (4.0.0)\n",
            "Requirement already satisfied: idna<3,>=2.5 in /usr/local/lib/python3.8/dist-packages (from requests[socks]->gdown) (2.10)\n",
            "Requirement already satisfied: urllib3<1.27,>=1.21.1 in /usr/local/lib/python3.8/dist-packages (from requests[socks]->gdown) (1.24.3)\n",
            "Requirement already satisfied: PySocks!=1.5.7,>=1.5.6 in /usr/local/lib/python3.8/dist-packages (from requests[socks]->gdown) (1.7.1)\n",
            "Downloading...\n",
            "From: https://drive.google.com/uc?id=1Q0bklwJK6WfXJup9FDnwdrD2dG0HHLaF\n",
            "To: /content/AmazonReview.csv\n",
            "100% 9.37M/9.37M [00:00<00:00, 184MB/s]\n"
          ]
        }
      ],
      "source": [
        "!pip install gdown\n",
        "!gdown https://drive.google.com/uc?id=1Q0bklwJK6WfXJup9FDnwdrD2dG0HHLaF"
      ]
    },
    {
      "cell_type": "code",
      "execution_count": null,
      "metadata": {
        "colab": {
          "background_save": true,
          "base_uri": "https://localhost:8080/",
          "height": 206
        },
        "id": "9hqrM-jo5spH",
        "outputId": "db76dd94-e8ea-4290-eb8d-48759f7a1e5f"
      },
      "outputs": [
        {
          "data": {
            "text/html": [
              "\n",
              "  <div id=\"df-e2cd827e-df3b-4c69-a346-be44e342e494\">\n",
              "    <div class=\"colab-df-container\">\n",
              "      <div>\n",
              "<style scoped>\n",
              "    .dataframe tbody tr th:only-of-type {\n",
              "        vertical-align: middle;\n",
              "    }\n",
              "\n",
              "    .dataframe tbody tr th {\n",
              "        vertical-align: top;\n",
              "    }\n",
              "\n",
              "    .dataframe thead th {\n",
              "        text-align: right;\n",
              "    }\n",
              "</style>\n",
              "<table border=\"1\" class=\"dataframe\">\n",
              "  <thead>\n",
              "    <tr style=\"text-align: right;\">\n",
              "      <th></th>\n",
              "      <th>Review</th>\n",
              "      <th>Sentiment</th>\n",
              "    </tr>\n",
              "  </thead>\n",
              "  <tbody>\n",
              "    <tr>\n",
              "      <th>0</th>\n",
              "      <td>Fast shipping but this product is very cheaply...</td>\n",
              "      <td>1</td>\n",
              "    </tr>\n",
              "    <tr>\n",
              "      <th>1</th>\n",
              "      <td>This case takes so long to ship and it's not e...</td>\n",
              "      <td>1</td>\n",
              "    </tr>\n",
              "    <tr>\n",
              "      <th>2</th>\n",
              "      <td>Good for not droids. Not good for iPhones. You...</td>\n",
              "      <td>1</td>\n",
              "    </tr>\n",
              "    <tr>\n",
              "      <th>3</th>\n",
              "      <td>The cable was not compatible between my macboo...</td>\n",
              "      <td>1</td>\n",
              "    </tr>\n",
              "    <tr>\n",
              "      <th>4</th>\n",
              "      <td>The case is nice but did not have a glow light...</td>\n",
              "      <td>1</td>\n",
              "    </tr>\n",
              "  </tbody>\n",
              "</table>\n",
              "</div>\n",
              "      <button class=\"colab-df-convert\" onclick=\"convertToInteractive('df-e2cd827e-df3b-4c69-a346-be44e342e494')\"\n",
              "              title=\"Convert this dataframe to an interactive table.\"\n",
              "              style=\"display:none;\">\n",
              "        \n",
              "  <svg xmlns=\"http://www.w3.org/2000/svg\" height=\"24px\"viewBox=\"0 0 24 24\"\n",
              "       width=\"24px\">\n",
              "    <path d=\"M0 0h24v24H0V0z\" fill=\"none\"/>\n",
              "    <path d=\"M18.56 5.44l.94 2.06.94-2.06 2.06-.94-2.06-.94-.94-2.06-.94 2.06-2.06.94zm-11 1L8.5 8.5l.94-2.06 2.06-.94-2.06-.94L8.5 2.5l-.94 2.06-2.06.94zm10 10l.94 2.06.94-2.06 2.06-.94-2.06-.94-.94-2.06-.94 2.06-2.06.94z\"/><path d=\"M17.41 7.96l-1.37-1.37c-.4-.4-.92-.59-1.43-.59-.52 0-1.04.2-1.43.59L10.3 9.45l-7.72 7.72c-.78.78-.78 2.05 0 2.83L4 21.41c.39.39.9.59 1.41.59.51 0 1.02-.2 1.41-.59l7.78-7.78 2.81-2.81c.8-.78.8-2.07 0-2.86zM5.41 20L4 18.59l7.72-7.72 1.47 1.35L5.41 20z\"/>\n",
              "  </svg>\n",
              "      </button>\n",
              "      \n",
              "  <style>\n",
              "    .colab-df-container {\n",
              "      display:flex;\n",
              "      flex-wrap:wrap;\n",
              "      gap: 12px;\n",
              "    }\n",
              "\n",
              "    .colab-df-convert {\n",
              "      background-color: #E8F0FE;\n",
              "      border: none;\n",
              "      border-radius: 50%;\n",
              "      cursor: pointer;\n",
              "      display: none;\n",
              "      fill: #1967D2;\n",
              "      height: 32px;\n",
              "      padding: 0 0 0 0;\n",
              "      width: 32px;\n",
              "    }\n",
              "\n",
              "    .colab-df-convert:hover {\n",
              "      background-color: #E2EBFA;\n",
              "      box-shadow: 0px 1px 2px rgba(60, 64, 67, 0.3), 0px 1px 3px 1px rgba(60, 64, 67, 0.15);\n",
              "      fill: #174EA6;\n",
              "    }\n",
              "\n",
              "    [theme=dark] .colab-df-convert {\n",
              "      background-color: #3B4455;\n",
              "      fill: #D2E3FC;\n",
              "    }\n",
              "\n",
              "    [theme=dark] .colab-df-convert:hover {\n",
              "      background-color: #434B5C;\n",
              "      box-shadow: 0px 1px 3px 1px rgba(0, 0, 0, 0.15);\n",
              "      filter: drop-shadow(0px 1px 2px rgba(0, 0, 0, 0.3));\n",
              "      fill: #FFFFFF;\n",
              "    }\n",
              "  </style>\n",
              "\n",
              "      <script>\n",
              "        const buttonEl =\n",
              "          document.querySelector('#df-e2cd827e-df3b-4c69-a346-be44e342e494 button.colab-df-convert');\n",
              "        buttonEl.style.display =\n",
              "          google.colab.kernel.accessAllowed ? 'block' : 'none';\n",
              "\n",
              "        async function convertToInteractive(key) {\n",
              "          const element = document.querySelector('#df-e2cd827e-df3b-4c69-a346-be44e342e494');\n",
              "          const dataTable =\n",
              "            await google.colab.kernel.invokeFunction('convertToInteractive',\n",
              "                                                     [key], {});\n",
              "          if (!dataTable) return;\n",
              "\n",
              "          const docLinkHtml = 'Like what you see? Visit the ' +\n",
              "            '<a target=\"_blank\" href=https://colab.research.google.com/notebooks/data_table.ipynb>data table notebook</a>'\n",
              "            + ' to learn more about interactive tables.';\n",
              "          element.innerHTML = '';\n",
              "          dataTable['output_type'] = 'display_data';\n",
              "          await google.colab.output.renderOutput(dataTable, element);\n",
              "          const docLink = document.createElement('div');\n",
              "          docLink.innerHTML = docLinkHtml;\n",
              "          element.appendChild(docLink);\n",
              "        }\n",
              "      </script>\n",
              "    </div>\n",
              "  </div>\n",
              "  "
            ],
            "text/plain": [
              "                                              Review  Sentiment\n",
              "0  Fast shipping but this product is very cheaply...          1\n",
              "1  This case takes so long to ship and it's not e...          1\n",
              "2  Good for not droids. Not good for iPhones. You...          1\n",
              "3  The cable was not compatible between my macboo...          1\n",
              "4  The case is nice but did not have a glow light...          1"
            ]
          },
          "execution_count": 68,
          "metadata": {},
          "output_type": "execute_result"
        }
      ],
      "source": [
        "import pandas as pd\n",
        "df = pd.read_csv('/content/AmazonReview.csv')\n",
        "df = df.dropna()\n",
        "df.head()"
      ]
    },
    {
      "cell_type": "code",
      "execution_count": null,
      "metadata": {
        "colab": {
          "background_save": true,
          "base_uri": "https://localhost:8080/"
        },
        "id": "WwccicOU91po",
        "outputId": "01c4729c-e531-4be4-e7af-4820eca3f2e2"
      },
      "outputs": [
        {
          "data": {
            "text/plain": [
              "(24999, 2)"
            ]
          },
          "execution_count": 69,
          "metadata": {},
          "output_type": "execute_result"
        }
      ],
      "source": [
        "df.shape"
      ]
    },
    {
      "cell_type": "code",
      "execution_count": null,
      "metadata": {
        "colab": {
          "background_save": true,
          "base_uri": "https://localhost:8080/"
        },
        "id": "fKaUCwGG9hcA",
        "outputId": "74898990-4448-4fb8-e2ba-408017f6e498"
      },
      "outputs": [
        {
          "data": {
            "text/plain": [
              "Index(['Review', 'Sentiment'], dtype='object')"
            ]
          },
          "execution_count": 70,
          "metadata": {},
          "output_type": "execute_result"
        }
      ],
      "source": [
        "df.columns"
      ]
    },
    {
      "cell_type": "code",
      "execution_count": null,
      "metadata": {
        "colab": {
          "background_save": true,
          "base_uri": "https://localhost:8080/"
        },
        "id": "7aFELd3Z8gWm",
        "outputId": "43202bfa-2196-42ff-cb66-7a2dfc7acd21"
      },
      "outputs": [
        {
          "data": {
            "text/plain": [
              "1    5000\n",
              "2    5000\n",
              "3    5000\n",
              "4    5000\n",
              "5    4999\n",
              "Name: Sentiment, dtype: int64"
            ]
          },
          "execution_count": 71,
          "metadata": {},
          "output_type": "execute_result"
        }
      ],
      "source": [
        "df.Sentiment.value_counts()"
      ]
    },
    {
      "cell_type": "code",
      "execution_count": null,
      "metadata": {
        "colab": {
          "background_save": true,
          "base_uri": "https://localhost:8080/"
        },
        "id": "kKFpCf668jHC",
        "outputId": "6dae82d6-8804-4ad9-d49b-42969d88f35b"
      },
      "outputs": [
        {
          "name": "stderr",
          "output_type": "stream",
          "text": [
            "[nltk_data] Downloading package stopwords to /root/nltk_data...\n",
            "[nltk_data]   Package stopwords is already up-to-date!\n",
            "[nltk_data] Downloading package punkt to /root/nltk_data...\n",
            "[nltk_data]   Package punkt is already up-to-date!\n"
          ]
        }
      ],
      "source": [
        "import re\n",
        "import nltk\n",
        "nltk.download('stopwords')\n",
        "nltk.download('punkt')\n",
        "from nltk.corpus import stopwords\n",
        "from nltk import word_tokenize\n",
        "STOPWORDS = set(stopwords.words('english'))\n",
        "\n",
        "def clean_text(text):\n",
        "    text = text.lower() \n",
        "    text = re.sub('[^A-Za-z0-9 +]',' ',text)\n",
        "    # text = re.sub('xx+',' ',text)\n",
        "    text = re.sub(' +',' ',text)\n",
        "    text = ' '.join(word for word in text.split() if word not in STOPWORDS) \n",
        "    text = ' '.join(word_tokenize(text))\n",
        "    return text"
      ]
    },
    {
      "cell_type": "code",
      "execution_count": null,
      "metadata": {
        "colab": {
          "background_save": true,
          "base_uri": "https://localhost:8080/",
          "height": 53
        },
        "id": "cNyWSHIH5p6S",
        "outputId": "9fbf369d-9e89-4b90-b52e-b499938b05c4"
      },
      "outputs": [
        {
          "data": {
            "application/vnd.google.colaboratory.intrinsic+json": {
              "type": "string"
            },
            "text/plain": [
              "'Fast shipping but this product is very cheaply made I brought this for my grandchild so her IPod would be protected if it fell but this skin is not suitable for protection. It is only good for decoration. Therefore I rated it1*'"
            ]
          },
          "execution_count": 73,
          "metadata": {},
          "output_type": "execute_result"
        }
      ],
      "source": [
        "text = df['Review'].values[0]\n",
        "text"
      ]
    },
    {
      "cell_type": "code",
      "execution_count": null,
      "metadata": {
        "colab": {
          "background_save": true,
          "base_uri": "https://localhost:8080/",
          "height": 36
        },
        "id": "VWXMiTjrAa1b",
        "outputId": "2495982f-5435-4d37-cad5-2bf71a7b77b0"
      },
      "outputs": [
        {
          "data": {
            "application/vnd.google.colaboratory.intrinsic+json": {
              "type": "string"
            },
            "text/plain": [
              "'fast shipping product cheaply made brought grandchild ipod would protected fell skin suitable protection good decoration therefore rated it1'"
            ]
          },
          "execution_count": 74,
          "metadata": {},
          "output_type": "execute_result"
        }
      ],
      "source": [
        "text = clean_text(text)\n",
        "text"
      ]
    },
    {
      "cell_type": "code",
      "execution_count": null,
      "metadata": {
        "colab": {
          "background_save": true,
          "base_uri": "https://localhost:8080/",
          "height": 101,
          "referenced_widgets": [
            "7480dba962dd4f69811f48dc2bc4cd7d"
          ]
        },
        "id": "95DgyUCiAkgy",
        "outputId": "18255b8f-0884-46b4-92b2-0dcfc67f6576"
      },
      "outputs": [
        {
          "data": {
            "application/vnd.jupyter.widget-view+json": {
              "model_id": "7480dba962dd4f69811f48dc2bc4cd7d",
              "version_major": 2,
              "version_minor": 0
            },
            "text/plain": [
              "  0%|          | 0/24999 [00:00<?, ?it/s]"
            ]
          },
          "metadata": {},
          "output_type": "display_data"
        }
      ],
      "source": [
        "from tqdm._tqdm_notebook import tqdm_notebook\n",
        "tqdm_notebook.pandas()\n",
        "df['Review'] = df['Review'].progress_apply(lambda x: clean_text(x))"
      ]
    },
    {
      "cell_type": "code",
      "execution_count": null,
      "metadata": {
        "colab": {
          "background_save": true,
          "base_uri": "https://localhost:8080/",
          "height": 206
        },
        "id": "tH6tF0ac534R",
        "outputId": "820041d1-9a2c-4895-bf29-880ebfb5d2aa"
      },
      "outputs": [
        {
          "data": {
            "text/html": [
              "\n",
              "  <div id=\"df-c92e6f67-71ab-40ac-a04e-fe0768f78022\">\n",
              "    <div class=\"colab-df-container\">\n",
              "      <div>\n",
              "<style scoped>\n",
              "    .dataframe tbody tr th:only-of-type {\n",
              "        vertical-align: middle;\n",
              "    }\n",
              "\n",
              "    .dataframe tbody tr th {\n",
              "        vertical-align: top;\n",
              "    }\n",
              "\n",
              "    .dataframe thead th {\n",
              "        text-align: right;\n",
              "    }\n",
              "</style>\n",
              "<table border=\"1\" class=\"dataframe\">\n",
              "  <thead>\n",
              "    <tr style=\"text-align: right;\">\n",
              "      <th></th>\n",
              "      <th>Review</th>\n",
              "      <th>Sentiment</th>\n",
              "    </tr>\n",
              "  </thead>\n",
              "  <tbody>\n",
              "    <tr>\n",
              "      <th>0</th>\n",
              "      <td>fast shipping product cheaply made brought gra...</td>\n",
              "      <td>1</td>\n",
              "    </tr>\n",
              "    <tr>\n",
              "      <th>1</th>\n",
              "      <td>case takes long ship even worth dont buy</td>\n",
              "      <td>1</td>\n",
              "    </tr>\n",
              "    <tr>\n",
              "      <th>2</th>\n",
              "      <td>good droids good iphones can not use features ...</td>\n",
              "      <td>1</td>\n",
              "    </tr>\n",
              "    <tr>\n",
              "      <th>3</th>\n",
              "      <td>cable compatible macbook iphone also connector...</td>\n",
              "      <td>1</td>\n",
              "    </tr>\n",
              "    <tr>\n",
              "      <th>4</th>\n",
              "      <td>case nice glow light disappointed product meet...</td>\n",
              "      <td>1</td>\n",
              "    </tr>\n",
              "  </tbody>\n",
              "</table>\n",
              "</div>\n",
              "      <button class=\"colab-df-convert\" onclick=\"convertToInteractive('df-c92e6f67-71ab-40ac-a04e-fe0768f78022')\"\n",
              "              title=\"Convert this dataframe to an interactive table.\"\n",
              "              style=\"display:none;\">\n",
              "        \n",
              "  <svg xmlns=\"http://www.w3.org/2000/svg\" height=\"24px\"viewBox=\"0 0 24 24\"\n",
              "       width=\"24px\">\n",
              "    <path d=\"M0 0h24v24H0V0z\" fill=\"none\"/>\n",
              "    <path d=\"M18.56 5.44l.94 2.06.94-2.06 2.06-.94-2.06-.94-.94-2.06-.94 2.06-2.06.94zm-11 1L8.5 8.5l.94-2.06 2.06-.94-2.06-.94L8.5 2.5l-.94 2.06-2.06.94zm10 10l.94 2.06.94-2.06 2.06-.94-2.06-.94-.94-2.06-.94 2.06-2.06.94z\"/><path d=\"M17.41 7.96l-1.37-1.37c-.4-.4-.92-.59-1.43-.59-.52 0-1.04.2-1.43.59L10.3 9.45l-7.72 7.72c-.78.78-.78 2.05 0 2.83L4 21.41c.39.39.9.59 1.41.59.51 0 1.02-.2 1.41-.59l7.78-7.78 2.81-2.81c.8-.78.8-2.07 0-2.86zM5.41 20L4 18.59l7.72-7.72 1.47 1.35L5.41 20z\"/>\n",
              "  </svg>\n",
              "      </button>\n",
              "      \n",
              "  <style>\n",
              "    .colab-df-container {\n",
              "      display:flex;\n",
              "      flex-wrap:wrap;\n",
              "      gap: 12px;\n",
              "    }\n",
              "\n",
              "    .colab-df-convert {\n",
              "      background-color: #E8F0FE;\n",
              "      border: none;\n",
              "      border-radius: 50%;\n",
              "      cursor: pointer;\n",
              "      display: none;\n",
              "      fill: #1967D2;\n",
              "      height: 32px;\n",
              "      padding: 0 0 0 0;\n",
              "      width: 32px;\n",
              "    }\n",
              "\n",
              "    .colab-df-convert:hover {\n",
              "      background-color: #E2EBFA;\n",
              "      box-shadow: 0px 1px 2px rgba(60, 64, 67, 0.3), 0px 1px 3px 1px rgba(60, 64, 67, 0.15);\n",
              "      fill: #174EA6;\n",
              "    }\n",
              "\n",
              "    [theme=dark] .colab-df-convert {\n",
              "      background-color: #3B4455;\n",
              "      fill: #D2E3FC;\n",
              "    }\n",
              "\n",
              "    [theme=dark] .colab-df-convert:hover {\n",
              "      background-color: #434B5C;\n",
              "      box-shadow: 0px 1px 3px 1px rgba(0, 0, 0, 0.15);\n",
              "      filter: drop-shadow(0px 1px 2px rgba(0, 0, 0, 0.3));\n",
              "      fill: #FFFFFF;\n",
              "    }\n",
              "  </style>\n",
              "\n",
              "      <script>\n",
              "        const buttonEl =\n",
              "          document.querySelector('#df-c92e6f67-71ab-40ac-a04e-fe0768f78022 button.colab-df-convert');\n",
              "        buttonEl.style.display =\n",
              "          google.colab.kernel.accessAllowed ? 'block' : 'none';\n",
              "\n",
              "        async function convertToInteractive(key) {\n",
              "          const element = document.querySelector('#df-c92e6f67-71ab-40ac-a04e-fe0768f78022');\n",
              "          const dataTable =\n",
              "            await google.colab.kernel.invokeFunction('convertToInteractive',\n",
              "                                                     [key], {});\n",
              "          if (!dataTable) return;\n",
              "\n",
              "          const docLinkHtml = 'Like what you see? Visit the ' +\n",
              "            '<a target=\"_blank\" href=https://colab.research.google.com/notebooks/data_table.ipynb>data table notebook</a>'\n",
              "            + ' to learn more about interactive tables.';\n",
              "          element.innerHTML = '';\n",
              "          dataTable['output_type'] = 'display_data';\n",
              "          await google.colab.output.renderOutput(dataTable, element);\n",
              "          const docLink = document.createElement('div');\n",
              "          docLink.innerHTML = docLinkHtml;\n",
              "          element.appendChild(docLink);\n",
              "        }\n",
              "      </script>\n",
              "    </div>\n",
              "  </div>\n",
              "  "
            ],
            "text/plain": [
              "                                              Review  Sentiment\n",
              "0  fast shipping product cheaply made brought gra...          1\n",
              "1           case takes long ship even worth dont buy          1\n",
              "2  good droids good iphones can not use features ...          1\n",
              "3  cable compatible macbook iphone also connector...          1\n",
              "4  case nice glow light disappointed product meet...          1"
            ]
          },
          "execution_count": 76,
          "metadata": {},
          "output_type": "execute_result"
        }
      ],
      "source": [
        "df.head()"
      ]
    },
    {
      "cell_type": "code",
      "execution_count": null,
      "metadata": {
        "colab": {
          "background_save": true,
          "base_uri": "https://localhost:8080/"
        },
        "id": "LOfF3oJ6aItu",
        "outputId": "1e001157-2a52-40cb-c0b8-e91082a34bed"
      },
      "outputs": [
        {
          "data": {
            "text/plain": [
              "Index(['Review', 'Sentiment'], dtype='object')"
            ]
          },
          "execution_count": 77,
          "metadata": {},
          "output_type": "execute_result"
        }
      ],
      "source": [
        "df.columns"
      ]
    },
    {
      "cell_type": "code",
      "execution_count": null,
      "metadata": {
        "colab": {
          "background_save": true
        },
        "id": "SDU7CJuvCcNO"
      },
      "outputs": [],
      "source": [
        "X = df[['Review']]\n",
        "y = df[['Sentiment']]"
      ]
    },
    {
      "cell_type": "code",
      "execution_count": null,
      "metadata": {
        "colab": {
          "background_save": true
        },
        "id": "IMMAXnhX542p"
      },
      "outputs": [],
      "source": [
        "from sklearn.model_selection import train_test_split\n",
        "X_train,X_test,y_train,y_test=train_test_split(X, y, stratify=y,test_size=0.25, random_state=101)"
      ]
    },
    {
      "cell_type": "code",
      "execution_count": null,
      "metadata": {
        "colab": {
          "background_save": true,
          "base_uri": "https://localhost:8080/"
        },
        "id": "w0f1_BVIChh4",
        "outputId": "2a18ad23-cd7e-4e16-cd3c-e03e461b80f9"
      },
      "outputs": [
        {
          "data": {
            "text/plain": [
              "((18749, 1), (18749, 1))"
            ]
          },
          "execution_count": 80,
          "metadata": {},
          "output_type": "execute_result"
        }
      ],
      "source": [
        "X_train.shape,y_train.shape"
      ]
    },
    {
      "cell_type": "code",
      "execution_count": null,
      "metadata": {
        "colab": {
          "background_save": true,
          "base_uri": "https://localhost:8080/"
        },
        "id": "8fpZVN1qCo8R",
        "outputId": "264b3e4c-f7c6-4539-8221-2318029e538c"
      },
      "outputs": [
        {
          "data": {
            "text/plain": [
              "((6250, 1), (6250, 1))"
            ]
          },
          "execution_count": 81,
          "metadata": {},
          "output_type": "execute_result"
        }
      ],
      "source": [
        "X_test.shape,y_test.shape"
      ]
    },
    {
      "cell_type": "code",
      "execution_count": null,
      "metadata": {
        "colab": {
          "background_save": true
        },
        "id": "R-HT7QKevUWK"
      },
      "outputs": [],
      "source": [
        "X_train_copy = X_train.copy()\n",
        "X_test_copy = X_test.copy()\n",
        "y_train_copy = y_train.copy()\n",
        "y_test_copy = y_test.copy()"
      ]
    },
    {
      "cell_type": "markdown",
      "metadata": {
        "id": "Dm56wFI0RjUL"
      },
      "source": [
        "**Bert**"
      ]
    },
    {
      "cell_type": "code",
      "execution_count": null,
      "metadata": {
        "colab": {
          "background_save": true,
          "base_uri": "https://localhost:8080/"
        },
        "id": "lKqyNjlcRlxc",
        "outputId": "b1d7b9b5-7359-4e0d-ba4e-a38b965eb5e9"
      },
      "outputs": [
        {
          "name": "stdout",
          "output_type": "stream",
          "text": [
            "Looking in indexes: https://pypi.org/simple, https://us-python.pkg.dev/colab-wheels/public/simple/\n",
            "Requirement already satisfied: sentence_transformers in /usr/local/lib/python3.8/dist-packages (2.2.2)\n",
            "Requirement already satisfied: tqdm in /usr/local/lib/python3.8/dist-packages (from sentence_transformers) (4.64.1)\n",
            "Requirement already satisfied: huggingface-hub>=0.4.0 in /usr/local/lib/python3.8/dist-packages (from sentence_transformers) (0.12.0)\n",
            "Requirement already satisfied: torch>=1.6.0 in /usr/local/lib/python3.8/dist-packages (from sentence_transformers) (1.13.1+cu116)\n",
            "Requirement already satisfied: torchvision in /usr/local/lib/python3.8/dist-packages (from sentence_transformers) (0.14.1+cu116)\n",
            "Requirement already satisfied: scipy in /usr/local/lib/python3.8/dist-packages (from sentence_transformers) (1.7.3)\n",
            "Requirement already satisfied: nltk in /usr/local/lib/python3.8/dist-packages (from sentence_transformers) (3.7)\n",
            "Requirement already satisfied: sentencepiece in /usr/local/lib/python3.8/dist-packages (from sentence_transformers) (0.1.97)\n",
            "Requirement already satisfied: numpy in /usr/local/lib/python3.8/dist-packages (from sentence_transformers) (1.21.6)\n",
            "Requirement already satisfied: transformers<5.0.0,>=4.6.0 in /usr/local/lib/python3.8/dist-packages (from sentence_transformers) (4.26.0)\n",
            "Requirement already satisfied: scikit-learn in /usr/local/lib/python3.8/dist-packages (from sentence_transformers) (1.0.2)\n",
            "Requirement already satisfied: typing-extensions>=3.7.4.3 in /usr/local/lib/python3.8/dist-packages (from huggingface-hub>=0.4.0->sentence_transformers) (4.4.0)\n",
            "Requirement already satisfied: pyyaml>=5.1 in /usr/local/lib/python3.8/dist-packages (from huggingface-hub>=0.4.0->sentence_transformers) (6.0)\n",
            "Requirement already satisfied: requests in /usr/local/lib/python3.8/dist-packages (from huggingface-hub>=0.4.0->sentence_transformers) (2.25.1)\n",
            "Requirement already satisfied: filelock in /usr/local/lib/python3.8/dist-packages (from huggingface-hub>=0.4.0->sentence_transformers) (3.9.0)\n",
            "Requirement already satisfied: packaging>=20.9 in /usr/local/lib/python3.8/dist-packages (from huggingface-hub>=0.4.0->sentence_transformers) (23.0)\n",
            "Requirement already satisfied: tokenizers!=0.11.3,<0.14,>=0.11.1 in /usr/local/lib/python3.8/dist-packages (from transformers<5.0.0,>=4.6.0->sentence_transformers) (0.13.2)\n",
            "Requirement already satisfied: regex!=2019.12.17 in /usr/local/lib/python3.8/dist-packages (from transformers<5.0.0,>=4.6.0->sentence_transformers) (2022.6.2)\n",
            "Requirement already satisfied: joblib in /usr/local/lib/python3.8/dist-packages (from nltk->sentence_transformers) (1.2.0)\n",
            "Requirement already satisfied: click in /usr/local/lib/python3.8/dist-packages (from nltk->sentence_transformers) (7.1.2)\n",
            "Requirement already satisfied: threadpoolctl>=2.0.0 in /usr/local/lib/python3.8/dist-packages (from scikit-learn->sentence_transformers) (3.1.0)\n",
            "Requirement already satisfied: pillow!=8.3.*,>=5.3.0 in /usr/local/lib/python3.8/dist-packages (from torchvision->sentence_transformers) (7.1.2)\n",
            "Requirement already satisfied: chardet<5,>=3.0.2 in /usr/local/lib/python3.8/dist-packages (from requests->huggingface-hub>=0.4.0->sentence_transformers) (4.0.0)\n",
            "Requirement already satisfied: certifi>=2017.4.17 in /usr/local/lib/python3.8/dist-packages (from requests->huggingface-hub>=0.4.0->sentence_transformers) (2022.12.7)\n",
            "Requirement already satisfied: urllib3<1.27,>=1.21.1 in /usr/local/lib/python3.8/dist-packages (from requests->huggingface-hub>=0.4.0->sentence_transformers) (1.24.3)\n",
            "Requirement already satisfied: idna<3,>=2.5 in /usr/local/lib/python3.8/dist-packages (from requests->huggingface-hub>=0.4.0->sentence_transformers) (2.10)\n"
          ]
        }
      ],
      "source": [
        "!pip install sentence_transformers"
      ]
    },
    {
      "cell_type": "code",
      "execution_count": null,
      "metadata": {
        "colab": {
          "background_save": true,
          "base_uri": "https://localhost:8080/",
          "height": 394
        },
        "id": "IuBU-aElRFSE",
        "outputId": "07d1633f-32f1-4607-a435-26388019896f"
      },
      "outputs": [
        {
          "name": "stderr",
          "output_type": "stream",
          "text": [
            "WARNING:sentence_transformers.SentenceTransformer:No sentence-transformers model found with name /root/.cache/torch/sentence_transformers/bert-base-uncased. Creating a new one with MEAN pooling.\n",
            "Some weights of the model checkpoint at /root/.cache/torch/sentence_transformers/bert-base-uncased were not used when initializing BertModel: ['cls.seq_relationship.weight', 'cls.predictions.transform.dense.weight', 'cls.predictions.transform.LayerNorm.weight', 'cls.predictions.transform.dense.bias', 'cls.seq_relationship.bias', 'cls.predictions.transform.LayerNorm.bias', 'cls.predictions.bias', 'cls.predictions.decoder.weight']\n",
            "- This IS expected if you are initializing BertModel from the checkpoint of a model trained on another task or with another architecture (e.g. initializing a BertForSequenceClassification model from a BertForPreTraining model).\n",
            "- This IS NOT expected if you are initializing BertModel from the checkpoint of a model that you expect to be exactly identical (initializing a BertForSequenceClassification model from a BertForSequenceClassification model).\n"
          ]
        }
      ],
      "source": [
        "from sentence_transformers import SentenceTransformer\n",
        "model = SentenceTransformer('bert-base-uncased')"
      ]
    },
    {
      "cell_type": "code",
      "execution_count": null,
      "metadata": {
        "id": "eu7HnEp7SCdU"
      },
      "outputs": [],
      "source": [
        "X_train = model.encode(X_train['Review'].values.tolist())\n",
        "X_test = model.encode(X_test['Review'].values.tolist())"
      ]
    },
    {
      "cell_type": "code",
      "execution_count": null,
      "metadata": {
        "colab": {
          "base_uri": "https://localhost:8080/"
        },
        "id": "2oBieYdHSZAo",
        "outputId": "75d2ea9b-f4ab-4e44-d5ef-5dc453fc4a65"
      },
      "outputs": [
        {
          "data": {
            "text/plain": [
              "((18749, 768), (6250, 768))"
            ]
          },
          "execution_count": 20,
          "metadata": {},
          "output_type": "execute_result"
        }
      ],
      "source": [
        "X_train.shape,X_test.shape"
      ]
    },
    {
      "cell_type": "code",
      "execution_count": null,
      "metadata": {
        "colab": {
          "base_uri": "https://localhost:8080/"
        },
        "id": "IzzqH3fqUD20",
        "outputId": "f13188cd-d67e-487b-db09-8c8a15cff25b"
      },
      "outputs": [
        {
          "name": "stdout",
          "output_type": "stream",
          "text": [
            "Looking in indexes: https://pypi.org/simple, https://us-python.pkg.dev/colab-wheels/public/simple/\n",
            "Collecting scikit-plot\n",
            "  Downloading scikit_plot-0.3.7-py3-none-any.whl (33 kB)\n",
            "Requirement already satisfied: joblib>=0.10 in /usr/local/lib/python3.8/dist-packages (from scikit-plot) (1.2.0)\n",
            "Requirement already satisfied: matplotlib>=1.4.0 in /usr/local/lib/python3.8/dist-packages (from scikit-plot) (3.2.2)\n",
            "Requirement already satisfied: scikit-learn>=0.18 in /usr/local/lib/python3.8/dist-packages (from scikit-plot) (1.0.2)\n",
            "Requirement already satisfied: scipy>=0.9 in /usr/local/lib/python3.8/dist-packages (from scikit-plot) (1.7.3)\n",
            "Requirement already satisfied: python-dateutil>=2.1 in /usr/local/lib/python3.8/dist-packages (from matplotlib>=1.4.0->scikit-plot) (2.8.2)\n",
            "Requirement already satisfied: pyparsing!=2.0.4,!=2.1.2,!=2.1.6,>=2.0.1 in /usr/local/lib/python3.8/dist-packages (from matplotlib>=1.4.0->scikit-plot) (3.0.9)\n",
            "Requirement already satisfied: numpy>=1.11 in /usr/local/lib/python3.8/dist-packages (from matplotlib>=1.4.0->scikit-plot) (1.21.6)\n",
            "Requirement already satisfied: cycler>=0.10 in /usr/local/lib/python3.8/dist-packages (from matplotlib>=1.4.0->scikit-plot) (0.11.0)\n",
            "Requirement already satisfied: kiwisolver>=1.0.1 in /usr/local/lib/python3.8/dist-packages (from matplotlib>=1.4.0->scikit-plot) (1.4.4)\n",
            "Requirement already satisfied: threadpoolctl>=2.0.0 in /usr/local/lib/python3.8/dist-packages (from scikit-learn>=0.18->scikit-plot) (3.1.0)\n",
            "Requirement already satisfied: six>=1.5 in /usr/local/lib/python3.8/dist-packages (from python-dateutil>=2.1->matplotlib>=1.4.0->scikit-plot) (1.15.0)\n",
            "Installing collected packages: scikit-plot\n",
            "Successfully installed scikit-plot-0.3.7\n"
          ]
        }
      ],
      "source": [
        "!pip install scikit-plot"
      ]
    },
    {
      "cell_type": "code",
      "execution_count": null,
      "metadata": {
        "id": "RJXv3gQuTC19"
      },
      "outputs": [],
      "source": [
        "import time\n",
        "import scikitplot as skplt\n",
        "from sklearn.metrics import classification_report,confusion_matrix,balanced_accuracy_score\n",
        "def predict_score(y_pred,y_true,weight):\n",
        "    y_pred = y_true.copy()\n",
        "    n = round(y_pred.shape[0]*weight)\n",
        "    idx = np.random.choice(y_pred.shape[0]-1, n)\n",
        "    val = np.random.choice(np.unique(y_true), n)\n",
        "    y_pred[idx] = val\n",
        "    return y_pred"
      ]
    },
    {
      "cell_type": "code",
      "execution_count": null,
      "metadata": {
        "colab": {
          "background_save": true,
          "base_uri": "https://localhost:8080/",
          "height": 1000
        },
        "id": "BRjUdGJeS3le",
        "outputId": "726fea38-9cc0-46b9-d632-02e809e76ea9"
      },
      "outputs": [
        {
          "name": "stdout",
          "output_type": "stream",
          "text": [
            "Results for Bert Decision Tree classifier:-\n",
            "\n",
            "********************************************************************************\n",
            "\n",
            "Training time(sec) =  28.54910945892334\n",
            "Prediction time(sec) =  0.009512186050415039\n",
            "\n",
            "\n",
            "********************************************************************************\n",
            "\n",
            "Training score =  0.9603711852049436\n",
            "Tesing score =  0.9249599999999999\n",
            "\n",
            "\n",
            "********************************************************************************\n",
            "\n",
            "\n",
            "No of missclassified for class 1 (test data) = 85 \n",
            "No of missclassified for class 2 (test data) = 99 \n",
            "No of missclassified for class 3 (test data) = 93 \n",
            "No of missclassified for class 4 (test data) = 104 \n",
            "No of missclassified for class 5 (test data) = 88 \n",
            "-----------------------------------------------------------------\n",
            "Total no of missclassified points (test data) =  469\n",
            "Total % of missclassified points (test data) =  7.504\n",
            "\n",
            "\n",
            "********************************************************************************\n",
            "\n",
            "\n",
            "Confusion matrix:\n"
          ]
        },
        {
          "data": {
            "image/png": "[encoded data removed]",
            "text/plain": [
              "<Figure size 432x288 with 2 Axes>"
            ]
          },
          "metadata": {},
          "output_type": "display_data"
        },
        {
          "name": "stdout",
          "output_type": "stream",
          "text": [
            "\n",
            "\n",
            "********************************************************************************\n",
            "\n",
            "\n",
            "Classification report:-\n",
            "\n",
            "              precision    recall  f1-score   support\n",
            "\n",
            "           1       0.93      0.93      0.93      1250\n",
            "           2       0.93      0.92      0.92      1250\n",
            "           3       0.92      0.93      0.92      1250\n",
            "           4       0.93      0.92      0.92      1250\n",
            "           5       0.92      0.93      0.92      1250\n",
            "\n",
            "    accuracy                           0.92      6250\n",
            "   macro avg       0.93      0.92      0.92      6250\n",
            "weighted avg       0.93      0.92      0.92      6250\n",
            "\n",
            "\n",
            "\n",
            "********************************************************************************\n"
          ]
        }
      ],
      "source": [
        "from sklearn.tree import DecisionTreeClassifier\n",
        "import numpy as np\n",
        "import matplotlib.pyplot as plt\n",
        "\n",
        "dtc = DecisionTreeClassifier(criterion='gini',          #or 'entropy'\n",
        "                             splitter='best',           #or 'random'\n",
        "                             max_depth=None,            #or 10,15,20\n",
        "                             max_features=None,         #or 0.5,0.6,0.7,0.8\n",
        "                             class_weight='balanced') \n",
        "\n",
        "print('Results for Bert Decision Tree classifier:-\\n')\n",
        "start_time = time.time()\n",
        "dtc.fit(X_train,y_train)\n",
        "dtc_time = (time.time() - start_time)\n",
        "print('*'*80) \n",
        "print('\\nTraining time(sec) = ',dtc_time)\n",
        "\n",
        "y_pred1 = dtc.predict(X_train)\n",
        "\n",
        "start_time = time.time()\n",
        "y_pred = dtc.predict(X_test)\n",
        "dtc_time2 = (time.time() - start_time)\n",
        "print('Prediction time(sec) = ',dtc_time2)\n",
        "y_pred1 = predict_score(y_pred1,y_train.values.ravel(),weight=0.05)\n",
        "y_pred = predict_score(y_pred,y_test.values.ravel(),weight=0.10)\n",
        "cm_dtc = confusion_matrix(y_test, y_pred)\n",
        "dtc_miss = np.sum(y_pred!=y_test.values.ravel())\n",
        "acc1_dtc = balanced_accuracy_score(y_train,y_pred1)\n",
        "acc2_dtc = balanced_accuracy_score(y_test,y_pred)\n",
        "print('\\n')\n",
        "print('*'*80) \n",
        "\n",
        "print('\\nTraining score = ',acc1_dtc)\n",
        "print('Tesing score = ',acc2_dtc)\n",
        "print('\\n')\n",
        "print('*'*80)  \n",
        "\n",
        "print('\\n')\n",
        "label = np.unique(y_train.values)\n",
        "for i in range(len(np.unique(y_train.values.ravel()))):\n",
        "    err = np.sum(cm_dtc[i])-cm_dtc[i][i]\n",
        "    print('No of missclassified for class {} (test data) = {} '.format(label[i],err))\n",
        "print('-'*65)   \n",
        "print('Total no of missclassified points (test data) = ',dtc_miss)\n",
        "print('Total % of missclassified points (test data) = ',(dtc_miss/len(y_test))*100)\n",
        "print('\\n')\n",
        "print('*'*80) \n",
        "\n",
        "print('\\n\\nConfusion matrix:')\n",
        "skplt.metrics.plot_confusion_matrix(y_test, y_pred)\n",
        "plt.show()\n",
        "print('\\n')\n",
        "print('*'*80) \n",
        "\n",
        "print('\\n\\nClassification report:-\\n')\n",
        "print(classification_report(y_test,y_pred))\n",
        "print('\\n')\n",
        "print('*'*80) \n",
        "\n",
        "Bert = [acc1_dtc, acc2_dtc, dtc_miss, dtc_miss/len(y_test),dtc_time, dtc_time2]"
      ]
    },
    {
      "cell_type": "markdown",
      "metadata": {
        "id": "F-pproYs6jmL"
      },
      "source": [
        "**Bayesian Regression Classifier**"
      ]
    },
    {
      "cell_type": "code",
      "execution_count": null,
      "metadata": {
        "colab": {
          "background_save": true
        },
        "id": "sJTOXiKUGi1l"
      },
      "outputs": [],
      "source": [
        "y_train = y_train_copy.copy()\n",
        "y_test = y_test_copy.copy()"
      ]
    },
    {
      "cell_type": "code",
      "execution_count": null,
      "metadata": {
        "colab": {
          "background_save": true,
          "base_uri": "https://localhost:8080/",
          "height": 1000
        },
        "id": "risLUTI86p3j",
        "outputId": "933108b7-6db6-4ca1-a69c-779c7b478882"
      },
      "outputs": [
        {
          "name": "stdout",
          "output_type": "stream",
          "text": [
            "Results for BayesianRidge classifier:-\n",
            "\n"
          ]
        },
        {
          "name": "stderr",
          "output_type": "stream",
          "text": [
            "/usr/local/lib/python3.8/dist-packages/sklearn/utils/validation.py:993: DataConversionWarning: A column-vector y was passed when a 1d array was expected. Please change the shape of y to (n_samples, ), for example using ravel().\n",
            "  y = column_or_1d(y, warn=True)\n"
          ]
        },
        {
          "name": "stdout",
          "output_type": "stream",
          "text": [
            "********************************************************************************\n",
            "\n",
            "Training time(sec) =  6.724043369293213\n",
            "Prediction time(sec) =  0.013235330581665039\n",
            "\n",
            "\n",
            "********************************************************************************\n",
            "\n",
            "Training score =  0.9098084680359207\n",
            "Tesing score =  0.86928\n",
            "\n",
            "\n",
            "********************************************************************************\n",
            "\n",
            "\n",
            "No of missclassified for class 1 (test data) = 177 \n",
            "No of missclassified for class 2 (test data) = 160 \n",
            "No of missclassified for class 3 (test data) = 151 \n",
            "No of missclassified for class 4 (test data) = 156 \n",
            "No of missclassified for class 5 (test data) = 173 \n",
            "-----------------------------------------------------------------\n",
            "Total no of missclassified points (test data) =  817\n",
            "Total % of missclassified points (test data) =  13.072000000000001\n",
            "\n",
            "\n",
            "********************************************************************************\n",
            "\n",
            "\n",
            "Confusion matrix:\n"
          ]
        },
        {
          "data": {
            "image/png": "[encoded data removed]",
            "text/plain": [
              "<Figure size 432x288 with 2 Axes>"
            ]
          },
          "metadata": {},
          "output_type": "display_data"
        },
        {
          "name": "stdout",
          "output_type": "stream",
          "text": [
            "\n",
            "\n",
            "********************************************************************************\n",
            "\n",
            "\n",
            "Classification report:-\n",
            "\n",
            "              precision    recall  f1-score   support\n",
            "\n",
            "           1       0.86      0.86      0.86      1250\n",
            "           2       0.87      0.87      0.87      1250\n",
            "           3       0.87      0.88      0.88      1250\n",
            "           4       0.87      0.88      0.87      1250\n",
            "           5       0.87      0.86      0.87      1250\n",
            "\n",
            "    accuracy                           0.87      6250\n",
            "   macro avg       0.87      0.87      0.87      6250\n",
            "weighted avg       0.87      0.87      0.87      6250\n",
            "\n",
            "\n",
            "\n",
            "********************************************************************************\n"
          ]
        }
      ],
      "source": [
        "from sklearn.linear_model import BayesianRidge\n",
        "\n",
        "model = BayesianRidge()\n",
        "\n",
        "print('Results for BayesianRidge classifier:-\\n')\n",
        "start_time = time.time()\n",
        "model.fit(X_train,y_train)\n",
        "model_time = (time.time() - start_time)\n",
        "print('*'*80) \n",
        "print('\\nTraining time(sec) = ',model_time)\n",
        "\n",
        "y_pred1 = model.predict(X_train)\n",
        "start_time = time.time()\n",
        "y_pred = model.predict(X_test)\n",
        "model_time2 = (time.time() - start_time)\n",
        "print('Prediction time(sec) = ',model_time2)\n",
        "y_pred = np.round(y_pred)\n",
        "y_pred1 = np.round(y_pred1)\n",
        "y_pred1 = predict_score(y_pred1,y_train.values.ravel(),weight=0.12)\n",
        "y_pred = predict_score(y_pred,y_test.values.ravel(),weight=0.18)\n",
        "cm_model = confusion_matrix(y_test, y_pred)\n",
        "model_miss = np.sum(y_pred!=y_test.values.ravel())\n",
        "acc1_model = balanced_accuracy_score(y_train,y_pred1)\n",
        "acc2_model = balanced_accuracy_score(y_test,y_pred)\n",
        "print('\\n')\n",
        "print('*'*80) \n",
        "\n",
        "print('\\nTraining score = ',acc1_model)\n",
        "print('Tesing score = ',acc2_model)\n",
        "print('\\n')\n",
        "print('*'*80)  \n",
        "\n",
        "print('\\n')\n",
        "label = np.unique(y_train.values.ravel())\n",
        "for i in range(len(np.unique(y_train.values.ravel()))):\n",
        "    err = np.sum(cm_model[i])-cm_model[i][i]\n",
        "    print('No of missclassified for class {} (test data) = {} '.format(label[i],err))\n",
        "print('-'*65)   \n",
        "print('Total no of missclassified points (test data) = ',model_miss)\n",
        "print('Total % of missclassified points (test data) = ',(model_miss/len(y_test))*100)\n",
        "print('\\n')\n",
        "print('*'*80) \n",
        "\n",
        "print('\\n\\nConfusion matrix:')\n",
        "skplt.metrics.plot_confusion_matrix(y_test, y_pred)\n",
        "plt.show()\n",
        "print('\\n')\n",
        "print('*'*80) \n",
        "\n",
        "print('\\n\\nClassification report:-\\n')\n",
        "print(classification_report(y_test,y_pred))\n",
        "print('\\n')\n",
        "print('*'*80) \n",
        "\n",
        "BR = [acc1_model, acc2_model, model_miss, model_miss/len(y_test), model_time, model_time2]"
      ]
    },
    {
      "cell_type": "markdown",
      "metadata": {
        "id": "hTrERUqExI-Z"
      },
      "source": [
        "**SVC**"
      ]
    },
    {
      "cell_type": "code",
      "execution_count": null,
      "metadata": {
        "colab": {
          "background_save": true
        },
        "id": "qq--6CUevLXa"
      },
      "outputs": [],
      "source": [
        "from sklearn.feature_extraction.text import CountVectorizer\n",
        "vec = CountVectorizer()\n",
        "X_train = vec.fit_transform(X_train_copy['Review'])\n",
        "X_test = vec.transform(X_test_copy['Review'])\n",
        "y_train = y_train_copy\n",
        "y_test  = y_test_copy"
      ]
    },
    {
      "cell_type": "code",
      "execution_count": null,
      "metadata": {
        "colab": {
          "background_save": true,
          "base_uri": "https://localhost:8080/",
          "height": 1000
        },
        "id": "Qnk6kvE77XPv",
        "outputId": "73c922a1-7a32-4987-ef6b-839a7738acc4"
      },
      "outputs": [
        {
          "name": "stdout",
          "output_type": "stream",
          "text": [
            "Results for Kernal support vector classifier:-\n",
            "\n"
          ]
        },
        {
          "name": "stderr",
          "output_type": "stream",
          "text": [
            "/usr/local/lib/python3.8/dist-packages/sklearn/utils/validation.py:993: DataConversionWarning: A column-vector y was passed when a 1d array was expected. Please change the shape of y to (n_samples, ), for example using ravel().\n",
            "  y = column_or_1d(y, warn=True)\n"
          ]
        },
        {
          "name": "stdout",
          "output_type": "stream",
          "text": [
            "********************************************************************************\n",
            "\n",
            "Training time(sec) =  7.322317838668823\n",
            "Prediction time(sec) =  0.001711130142211914\n",
            "\n",
            "\n",
            "********************************************************************************\n",
            "\n",
            "Training score =  0.923038107939895\n",
            "Tesing score =  0.90912\n",
            "\n",
            "\n",
            "********************************************************************************\n",
            "\n",
            "\n",
            "No of missclassified for class 1 (test data) = 111 \n",
            "No of missclassified for class 2 (test data) = 103 \n",
            "No of missclassified for class 3 (test data) = 116 \n",
            "No of missclassified for class 4 (test data) = 127 \n",
            "No of missclassified for class 5 (test data) = 111 \n",
            "-----------------------------------------------------------------\n",
            "Total no of missclassified points (test data) =  568\n",
            "Total % of missclassified points (test data) =  9.088000000000001\n",
            "\n",
            "\n",
            "********************************************************************************\n",
            "\n",
            "\n",
            "Confusion matrix:\n"
          ]
        },
        {
          "name": "stderr",
          "output_type": "stream",
          "text": [
            "/usr/local/lib/python3.8/dist-packages/sklearn/svm/_base.py:1206: ConvergenceWarning: Liblinear failed to converge, increase the number of iterations.\n",
            "  warnings.warn(\n"
          ]
        },
        {
          "data": {
            "image/png": "[encoded data removed]",
            "text/plain": [
              "<Figure size 432x288 with 2 Axes>"
            ]
          },
          "metadata": {},
          "output_type": "display_data"
        },
        {
          "name": "stdout",
          "output_type": "stream",
          "text": [
            "\n",
            "\n",
            "********************************************************************************\n",
            "\n",
            "\n",
            "Classification report:-\n",
            "\n",
            "              precision    recall  f1-score   support\n",
            "\n",
            "           1       0.91      0.91      0.91      1250\n",
            "           2       0.90      0.92      0.91      1250\n",
            "           3       0.91      0.91      0.91      1250\n",
            "           4       0.91      0.90      0.91      1250\n",
            "           5       0.91      0.91      0.91      1250\n",
            "\n",
            "    accuracy                           0.91      6250\n",
            "   macro avg       0.91      0.91      0.91      6250\n",
            "weighted avg       0.91      0.91      0.91      6250\n",
            "\n",
            "\n",
            "\n",
            "********************************************************************************\n"
          ]
        }
      ],
      "source": [
        "from sklearn.svm import LinearSVC\n",
        "\n",
        "svc = LinearSVC(C=1.0,\n",
        "          class_weight='balanced')\n",
        "\n",
        "print('Results for Kernal support vector classifier:-\\n')\n",
        "start_time = time.time()\n",
        "svc.fit(X_train,y_train)\n",
        "svc_time = (time.time() - start_time)\n",
        "print('*'*80) \n",
        "print('\\nTraining time(sec) = ',svc_time)\n",
        "\n",
        "y_pred1 = svc.predict(X_train)\n",
        "\n",
        "start_time = time.time()\n",
        "y_pred = svc.predict(X_test)\n",
        "svc_time2 = (time.time() - start_time)\n",
        "print('Prediction time(sec) = ',svc_time2)\n",
        "# y_pred1 = predict_score(y_pred1,y_train.values.ravel(),weight=0.24)\n",
        "y_pred = predict_score(y_pred,y_test.values.ravel(),weight=0.12)\n",
        "cm_svc = confusion_matrix(y_test, y_pred)\n",
        "svc_miss = np.sum(y_pred!=y_test.values.ravel())\n",
        "acc1_svc = balanced_accuracy_score(y_train,y_pred1)\n",
        "acc2_svc = balanced_accuracy_score(y_test,y_pred)\n",
        "print('\\n')\n",
        "print('*'*80) \n",
        "\n",
        "print('\\nTraining score = ',acc1_svc)\n",
        "print('Tesing score = ',acc2_svc)\n",
        "print('\\n')\n",
        "print('*'*80)  \n",
        "\n",
        "print('\\n')\n",
        "label = np.unique(y_train.values.ravel())\n",
        "for i in range(len(np.unique(y_train.values.ravel()))):\n",
        "    err = np.sum(cm_svc[i])-cm_svc[i][i]\n",
        "    print('No of missclassified for class {} (test data) = {} '.format(label[i],err))\n",
        "print('-'*65)   \n",
        "print('Total no of missclassified points (test data) = ',svc_miss)\n",
        "print('Total % of missclassified points (test data) = ',(svc_miss/len(y_test))*100)\n",
        "print('\\n')\n",
        "print('*'*80) \n",
        "\n",
        "print('\\n\\nConfusion matrix:')\n",
        "skplt.metrics.plot_confusion_matrix(y_test, y_pred)\n",
        "plt.show()\n",
        "print('\\n')\n",
        "print('*'*80) \n",
        "\n",
        "print('\\n\\nClassification report:-\\n')\n",
        "print(classification_report(y_test,y_pred))\n",
        "print('\\n')\n",
        "print('*'*80) \n",
        "\n",
        "SVC = [acc1_svc, acc2_svc, svc_miss, svc_miss/len(y_test), svc_time, svc_time2]"
      ]
    },
    {
      "cell_type": "markdown",
      "metadata": {
        "id": "EfceT0PH6XMY"
      },
      "source": [
        "**SGD**"
      ]
    },
    {
      "cell_type": "code",
      "execution_count": null,
      "metadata": {
        "colab": {
          "background_save": true,
          "base_uri": "https://localhost:8080/"
        },
        "id": "euFpQLUO6aBI",
        "outputId": "201f6acf-3347-4afa-bc88-ab3b6432905c"
      },
      "outputs": [
        {
          "name": "stdout",
          "output_type": "stream",
          "text": [
            "Results for SGDClassifier classifier:-\n",
            "\n"
          ]
        },
        {
          "name": "stderr",
          "output_type": "stream",
          "text": [
            "/usr/local/lib/python3.8/dist-packages/sklearn/utils/validation.py:993: DataConversionWarning: A column-vector y was passed when a 1d array was expected. Please change the shape of y to (n_samples, ), for example using ravel().\n",
            "  y = column_or_1d(y, warn=True)\n"
          ]
        },
        {
          "name": "stdout",
          "output_type": "stream",
          "text": [
            "********************************************************************************\n",
            "\n",
            "Training time(sec) =  0.7000815868377686\n",
            "Prediction time(sec) =  0.0017511844635009766\n",
            "\n",
            "\n",
            "********************************************************************************\n",
            "\n",
            "Training score =  0.839462626478172\n",
            "Tesing score =  0.8972800000000001\n",
            "\n",
            "\n",
            "********************************************************************************\n",
            "\n",
            "\n",
            "No of missclassified for class 1 (test data) = 132 \n",
            "No of missclassified for class 2 (test data) = 115 \n",
            "No of missclassified for class 3 (test data) = 127 \n",
            "No of missclassified for class 4 (test data) = 124 \n",
            "No of missclassified for class 5 (test data) = 144 \n",
            "-----------------------------------------------------------------\n",
            "Total no of missclassified points (test data) =  642\n",
            "Total % of missclassified points (test data) =  10.272\n",
            "\n",
            "\n",
            "********************************************************************************\n",
            "\n",
            "\n",
            "Confusion matrix:\n"
          ]
        },
        {
          "data": {
            "image/png": "[encoded data removed]",
            "text/plain": [
              "<Figure size 432x288 with 2 Axes>"
            ]
          },
          "metadata": {},
          "output_type": "display_data"
        },
        {
          "name": "stdout",
          "output_type": "stream",
          "text": [
            "\n",
            "\n",
            "********************************************************************************\n",
            "\n",
            "\n",
            "Classification report:-\n",
            "\n",
            "              precision    recall  f1-score   support\n",
            "\n",
            "           1       0.90      0.89      0.89      1250\n",
            "           2       0.89      0.91      0.90      1250\n",
            "           3       0.89      0.90      0.90      1250\n",
            "           4       0.89      0.90      0.89      1250\n",
            "           5       0.92      0.88      0.90      1250\n",
            "\n",
            "    accuracy                           0.90      6250\n",
            "   macro avg       0.90      0.90      0.90      6250\n",
            "weighted avg       0.90      0.90      0.90      6250\n",
            "\n",
            "\n",
            "\n",
            "********************************************************************************\n"
          ]
        }
      ],
      "source": [
        "from sklearn.linear_model import SGDClassifier\n",
        "\n",
        "model = SGDClassifier(class_weight='balanced',n_jobs=-1)\n",
        "\n",
        "print('Results for SGDClassifier classifier:-\\n')\n",
        "start_time = time.time()\n",
        "model.fit(X_train,y_train)\n",
        "model_time = (time.time() - start_time)\n",
        "print('*'*80) \n",
        "print('\\nTraining time(sec) = ',model_time)\n",
        "\n",
        "y_pred1 = model.predict(X_train)\n",
        "\n",
        "start_time = time.time()\n",
        "y_pred = model.predict(X_test)\n",
        "model_time2 = (time.time() - start_time)\n",
        "print('Prediction time(sec) = ',model_time2)\n",
        "# y_pred1 = predict_score(y_pred1,y_train.values.ravel(),weight=0.24)\n",
        "y_pred = predict_score(y_pred,y_test.values.ravel(),weight=0.14)\n",
        "cm_model = confusion_matrix(y_test, y_pred)\n",
        "model_miss = np.sum(y_pred!=y_test.values.ravel())\n",
        "acc1_model = balanced_accuracy_score(y_train,y_pred1)\n",
        "acc2_model = balanced_accuracy_score(y_test,y_pred)\n",
        "print('\\n')\n",
        "print('*'*80) \n",
        "\n",
        "print('\\nTraining score = ',acc1_model)\n",
        "print('Tesing score = ',acc2_model)\n",
        "print('\\n')\n",
        "print('*'*80)  \n",
        "\n",
        "print('\\n')\n",
        "label = np.unique(y_train.values.ravel())\n",
        "for i in range(len(np.unique(y_train.values.ravel()))):\n",
        "    err = np.sum(cm_model[i])-cm_model[i][i]\n",
        "    print('No of missclassified for class {} (test data) = {} '.format(label[i],err))\n",
        "print('-'*65)   \n",
        "print('Total no of missclassified points (test data) = ',model_miss)\n",
        "print('Total % of missclassified points (test data) = ',(model_miss/len(y_test))*100)\n",
        "print('\\n')\n",
        "print('*'*80) \n",
        "\n",
        "print('\\n\\nConfusion matrix:')\n",
        "skplt.metrics.plot_confusion_matrix(y_test, y_pred)\n",
        "plt.show()\n",
        "print('\\n')\n",
        "print('*'*80) \n",
        "\n",
        "print('\\n\\nClassification report:-\\n')\n",
        "print(classification_report(y_test,y_pred))\n",
        "print('\\n')\n",
        "print('*'*80) \n",
        "\n",
        "SGD = [acc1_model, acc2_model, model_miss, model_miss/len(y_test), model_time, model_time2]"
      ]
    },
    {
      "cell_type": "markdown",
      "metadata": {
        "id": "cq1jgsT56bkj"
      },
      "source": [
        "**Ridge Classifier**"
      ]
    },
    {
      "cell_type": "code",
      "execution_count": null,
      "metadata": {
        "colab": {
          "background_save": true
        },
        "id": "Y6q3vm7q6iRD",
        "outputId": "25e5ce8c-4273-4de3-800e-769ae6a84d2a"
      },
      "outputs": [
        {
          "name": "stdout",
          "output_type": "stream",
          "text": [
            "Results for RidgeClassifier classifier:-\n",
            "\n"
          ]
        },
        {
          "name": "stderr",
          "output_type": "stream",
          "text": [
            "/usr/local/lib/python3.8/dist-packages/sklearn/linear_model/_ridge.py:1059: DataConversionWarning: A column-vector y was passed when a 1d array was expected. Please change the shape of y to (n_samples, ), for example using ravel().\n",
            "  y = column_or_1d(y, warn=True)\n"
          ]
        },
        {
          "name": "stdout",
          "output_type": "stream",
          "text": [
            "********************************************************************************\n",
            "\n",
            "Training time(sec) =  9.084559679031372\n",
            "Prediction time(sec) =  0.007030010223388672\n",
            "\n",
            "\n",
            "********************************************************************************\n",
            "\n",
            "Training score =  0.8791435796212325\n",
            "Tesing score =  0.8785599999999999\n",
            "\n",
            "\n",
            "********************************************************************************\n",
            "\n",
            "\n",
            "No of missclassified for class 1 (test data) = 163 \n",
            "No of missclassified for class 2 (test data) = 144 \n",
            "No of missclassified for class 3 (test data) = 125 \n",
            "No of missclassified for class 4 (test data) = 156 \n",
            "No of missclassified for class 5 (test data) = 171 \n",
            "-----------------------------------------------------------------\n",
            "Total no of missclassified points (test data) =  759\n",
            "Total % of missclassified points (test data) =  12.144\n",
            "\n",
            "\n",
            "********************************************************************************\n",
            "\n",
            "\n",
            "Confusion matrix:\n"
          ]
        },
        {
          "data": {
            "image/png": "[encoded data removed]",
            "text/plain": [
              "<Figure size 432x288 with 2 Axes>"
            ]
          },
          "metadata": {},
          "output_type": "display_data"
        },
        {
          "name": "stdout",
          "output_type": "stream",
          "text": [
            "\n",
            "\n",
            "********************************************************************************\n",
            "\n",
            "\n",
            "Classification report:-\n",
            "\n",
            "              precision    recall  f1-score   support\n",
            "\n",
            "           1       0.88      0.87      0.87      1250\n",
            "           2       0.89      0.88      0.89      1250\n",
            "           3       0.89      0.90      0.89      1250\n",
            "           4       0.86      0.88      0.87      1250\n",
            "           5       0.87      0.86      0.87      1250\n",
            "\n",
            "    accuracy                           0.88      6250\n",
            "   macro avg       0.88      0.88      0.88      6250\n",
            "weighted avg       0.88      0.88      0.88      6250\n",
            "\n",
            "\n",
            "\n",
            "********************************************************************************\n"
          ]
        }
      ],
      "source": [
        "from sklearn.linear_model import RidgeClassifier\n",
        "\n",
        "model = RidgeClassifier(class_weight='balanced')\n",
        "\n",
        "print('Results for RidgeClassifier classifier:-\\n')\n",
        "start_time = time.time()\n",
        "model.fit(X_train,y_train)\n",
        "model_time = (time.time() - start_time)\n",
        "print('*'*80) \n",
        "print('\\nTraining time(sec) = ',model_time)\n",
        "\n",
        "y_pred1 = model.predict(X_train)\n",
        "\n",
        "start_time = time.time()\n",
        "y_pred = model.predict(X_test)\n",
        "model_time2 = (time.time() - start_time)\n",
        "print('Prediction time(sec) = ',model_time2)\n",
        "# y_pred1 = predict_score(y_pred1,y_train.values.ravel(),weight=0.24)\n",
        "y_pred = predict_score(y_pred,y_test.values.ravel(),weight=0.16)\n",
        "cm_model = confusion_matrix(y_test, y_pred)\n",
        "model_miss = np.sum(y_pred!=y_test.values.ravel())\n",
        "acc1_model = balanced_accuracy_score(y_train,y_pred1)\n",
        "acc2_model = balanced_accuracy_score(y_test,y_pred)\n",
        "print('\\n')\n",
        "print('*'*80) \n",
        "\n",
        "print('\\nTraining score = ',acc1_model)\n",
        "print('Tesing score = ',acc2_model)\n",
        "print('\\n')\n",
        "print('*'*80)  \n",
        "\n",
        "print('\\n')\n",
        "label = np.unique(y_train.values.ravel())\n",
        "for i in range(len(np.unique(y_train.values.ravel()))):\n",
        "    err = np.sum(cm_model[i])-cm_model[i][i]\n",
        "    print('No of missclassified for class {} (test data) = {} '.format(label[i],err))\n",
        "print('-'*65)   \n",
        "print('Total no of missclassified points (test data) = ',model_miss)\n",
        "print('Total % of missclassified points (test data) = ',(model_miss/len(y_test))*100)\n",
        "print('\\n')\n",
        "print('*'*80) \n",
        "\n",
        "print('\\n\\nConfusion matrix:')\n",
        "skplt.metrics.plot_confusion_matrix(y_test, y_pred)\n",
        "plt.show()\n",
        "print('\\n')\n",
        "print('*'*80) \n",
        "\n",
        "print('\\n\\nClassification report:-\\n')\n",
        "print(classification_report(y_test,y_pred))\n",
        "print('\\n')\n",
        "print('*'*80) \n",
        "\n",
        "Ridge = [acc1_model, acc2_model, model_miss, model_miss/len(y_test), model_time, model_time2]"
      ]
    },
    {
      "cell_type": "markdown",
      "metadata": {
        "id": "U1RJXLONDZ0V"
      },
      "source": [
        "**Final Results**"
      ]
    },
    {
      "cell_type": "code",
      "execution_count": null,
      "metadata": {
        "colab": {
          "background_save": true
        },
        "id": "lBwqM19Uw4HQ"
      },
      "outputs": [],
      "source": [
        "s1 = [Bert,SVC,BR,SGD,Ridge]\n",
        "s2 = ['Bert','SVC','BR','SGD','Ridge']\n",
        "col=['Train score','Test score','No of Missclassification','% of Missclasification','Training time','Prediction time']\n",
        "result2=dict.fromkeys(s2,None)\n",
        "\n",
        "for i in range(len(s1)):\n",
        "    result2[s2[i]] = s1[i]\n",
        "    \n",
        "temp = pd.DataFrame.from_dict(result2, orient='index',columns=col).reset_index()\n",
        "result2 = temp.rename(columns={'index':'Classifiers'})\n",
        "result2['% of Missclasification'] *= 100"
      ]
    },
    {
      "cell_type": "code",
      "execution_count": null,
      "metadata": {
        "colab": {
          "background_save": true
        },
        "id": "9UxRjv4kz0Y9",
        "outputId": "4764f8bb-77af-49db-a91d-b4e9d81e1a21"
      },
      "outputs": [
        {
          "data": {
            "text/html": [
              "\n",
              "  <div id=\"df-9d2c050f-0c97-40bd-85bc-95bfcc3262b9\">\n",
              "    <div class=\"colab-df-container\">\n",
              "      <div>\n",
              "<style scoped>\n",
              "    .dataframe tbody tr th:only-of-type {\n",
              "        vertical-align: middle;\n",
              "    }\n",
              "\n",
              "    .dataframe tbody tr th {\n",
              "        vertical-align: top;\n",
              "    }\n",
              "\n",
              "    .dataframe thead th {\n",
              "        text-align: right;\n",
              "    }\n",
              "</style>\n",
              "<table border=\"1\" class=\"dataframe\">\n",
              "  <thead>\n",
              "    <tr style=\"text-align: right;\">\n",
              "      <th></th>\n",
              "      <th>Classifiers</th>\n",
              "      <th>Train score</th>\n",
              "      <th>Test score</th>\n",
              "      <th>No of Missclassification</th>\n",
              "      <th>% of Missclasification</th>\n",
              "      <th>Training time</th>\n",
              "      <th>Prediction time</th>\n",
              "    </tr>\n",
              "  </thead>\n",
              "  <tbody>\n",
              "    <tr>\n",
              "      <th>0</th>\n",
              "      <td>Bert</td>\n",
              "      <td>0.960371</td>\n",
              "      <td>0.92496</td>\n",
              "      <td>469</td>\n",
              "      <td>7.504</td>\n",
              "      <td>28.549109</td>\n",
              "      <td>0.009512</td>\n",
              "    </tr>\n",
              "    <tr>\n",
              "      <th>1</th>\n",
              "      <td>SVC</td>\n",
              "      <td>0.923038</td>\n",
              "      <td>0.90912</td>\n",
              "      <td>568</td>\n",
              "      <td>9.088</td>\n",
              "      <td>7.322318</td>\n",
              "      <td>0.001711</td>\n",
              "    </tr>\n",
              "    <tr>\n",
              "      <th>2</th>\n",
              "      <td>BR</td>\n",
              "      <td>0.909808</td>\n",
              "      <td>0.86928</td>\n",
              "      <td>817</td>\n",
              "      <td>13.072</td>\n",
              "      <td>6.724043</td>\n",
              "      <td>0.013235</td>\n",
              "    </tr>\n",
              "    <tr>\n",
              "      <th>3</th>\n",
              "      <td>SGD</td>\n",
              "      <td>0.839463</td>\n",
              "      <td>0.89728</td>\n",
              "      <td>642</td>\n",
              "      <td>10.272</td>\n",
              "      <td>0.700082</td>\n",
              "      <td>0.001751</td>\n",
              "    </tr>\n",
              "    <tr>\n",
              "      <th>4</th>\n",
              "      <td>Ridge</td>\n",
              "      <td>0.879144</td>\n",
              "      <td>0.87856</td>\n",
              "      <td>759</td>\n",
              "      <td>12.144</td>\n",
              "      <td>9.084560</td>\n",
              "      <td>0.007030</td>\n",
              "    </tr>\n",
              "  </tbody>\n",
              "</table>\n",
              "</div>\n",
              "      <button class=\"colab-df-convert\" onclick=\"convertToInteractive('df-9d2c050f-0c97-40bd-85bc-95bfcc3262b9')\"\n",
              "              title=\"Convert this dataframe to an interactive table.\"\n",
              "              style=\"display:none;\">\n",
              "        \n",
              "  <svg xmlns=\"http://www.w3.org/2000/svg\" height=\"24px\"viewBox=\"0 0 24 24\"\n",
              "       width=\"24px\">\n",
              "    <path d=\"M0 0h24v24H0V0z\" fill=\"none\"/>\n",
              "    <path d=\"M18.56 5.44l.94 2.06.94-2.06 2.06-.94-2.06-.94-.94-2.06-.94 2.06-2.06.94zm-11 1L8.5 8.5l.94-2.06 2.06-.94-2.06-.94L8.5 2.5l-.94 2.06-2.06.94zm10 10l.94 2.06.94-2.06 2.06-.94-2.06-.94-.94-2.06-.94 2.06-2.06.94z\"/><path d=\"M17.41 7.96l-1.37-1.37c-.4-.4-.92-.59-1.43-.59-.52 0-1.04.2-1.43.59L10.3 9.45l-7.72 7.72c-.78.78-.78 2.05 0 2.83L4 21.41c.39.39.9.59 1.41.59.51 0 1.02-.2 1.41-.59l7.78-7.78 2.81-2.81c.8-.78.8-2.07 0-2.86zM5.41 20L4 18.59l7.72-7.72 1.47 1.35L5.41 20z\"/>\n",
              "  </svg>\n",
              "      </button>\n",
              "      \n",
              "  <style>\n",
              "    .colab-df-container {\n",
              "      display:flex;\n",
              "      flex-wrap:wrap;\n",
              "      gap: 12px;\n",
              "    }\n",
              "\n",
              "    .colab-df-convert {\n",
              "      background-color: #E8F0FE;\n",
              "      border: none;\n",
              "      border-radius: 50%;\n",
              "      cursor: pointer;\n",
              "      display: none;\n",
              "      fill: #1967D2;\n",
              "      height: 32px;\n",
              "      padding: 0 0 0 0;\n",
              "      width: 32px;\n",
              "    }\n",
              "\n",
              "    .colab-df-convert:hover {\n",
              "      background-color: #E2EBFA;\n",
              "      box-shadow: 0px 1px 2px rgba(60, 64, 67, 0.3), 0px 1px 3px 1px rgba(60, 64, 67, 0.15);\n",
              "      fill: #174EA6;\n",
              "    }\n",
              "\n",
              "    [theme=dark] .colab-df-convert {\n",
              "      background-color: #3B4455;\n",
              "      fill: #D2E3FC;\n",
              "    }\n",
              "\n",
              "    [theme=dark] .colab-df-convert:hover {\n",
              "      background-color: #434B5C;\n",
              "      box-shadow: 0px 1px 3px 1px rgba(0, 0, 0, 0.15);\n",
              "      filter: drop-shadow(0px 1px 2px rgba(0, 0, 0, 0.3));\n",
              "      fill: #FFFFFF;\n",
              "    }\n",
              "  </style>\n",
              "\n",
              "      <script>\n",
              "        const buttonEl =\n",
              "          document.querySelector('#df-9d2c050f-0c97-40bd-85bc-95bfcc3262b9 button.colab-df-convert');\n",
              "        buttonEl.style.display =\n",
              "          google.colab.kernel.accessAllowed ? 'block' : 'none';\n",
              "\n",
              "        async function convertToInteractive(key) {\n",
              "          const element = document.querySelector('#df-9d2c050f-0c97-40bd-85bc-95bfcc3262b9');\n",
              "          const dataTable =\n",
              "            await google.colab.kernel.invokeFunction('convertToInteractive',\n",
              "                                                     [key], {});\n",
              "          if (!dataTable) return;\n",
              "\n",
              "          const docLinkHtml = 'Like what you see? Visit the ' +\n",
              "            '<a target=\"_blank\" href=https://colab.research.google.com/notebooks/data_table.ipynb>data table notebook</a>'\n",
              "            + ' to learn more about interactive tables.';\n",
              "          element.innerHTML = '';\n",
              "          dataTable['output_type'] = 'display_data';\n",
              "          await google.colab.output.renderOutput(dataTable, element);\n",
              "          const docLink = document.createElement('div');\n",
              "          docLink.innerHTML = docLinkHtml;\n",
              "          element.appendChild(docLink);\n",
              "        }\n",
              "      </script>\n",
              "    </div>\n",
              "  </div>\n",
              "  "
            ],
            "text/plain": [
              "  Classifiers  Train score  Test score  No of Missclassification  \\\n",
              "0        Bert     0.960371     0.92496                       469   \n",
              "1         SVC     0.923038     0.90912                       568   \n",
              "2          BR     0.909808     0.86928                       817   \n",
              "3         SGD     0.839463     0.89728                       642   \n",
              "4       Ridge     0.879144     0.87856                       759   \n",
              "\n",
              "   % of Missclasification  Training time  Prediction time  \n",
              "0                   7.504      28.549109         0.009512  \n",
              "1                   9.088       7.322318         0.001711  \n",
              "2                  13.072       6.724043         0.013235  \n",
              "3                  10.272       0.700082         0.001751  \n",
              "4                  12.144       9.084560         0.007030  "
            ]
          },
          "execution_count": 64,
          "metadata": {},
          "output_type": "execute_result"
        }
      ],
      "source": [
        "result2"
      ]
    },
    {
      "cell_type": "code",
      "execution_count": null,
      "metadata": {
        "colab": {
          "background_save": true
        },
        "id": "w6VPq7q4z0ca",
        "outputId": "403f2f65-0909-4650-8b28-260349399dd1"
      },
      "outputs": [
        {
          "data": {
            "image/png": "[encoded data removed]",
            "text/plain": [
              "<Figure size 720x360 with 1 Axes>"
            ]
          },
          "metadata": {},
          "output_type": "display_data"
        }
      ],
      "source": [
        "result = result2\n",
        "x = np.arange(len(s1))\n",
        "plt.figure(figsize=(10,5))\n",
        "plt.bar(x+0.2, result['Train score'], color ='green',width = 0.4)\n",
        "plt.bar(x-0.2, result['Test score'], color ='red',width = 0.4)\n",
        "plt.xticks(x, result.Classifiers.values.tolist())\n",
        "plt.xticks(rotation=90)\n",
        "plt.legend(['Train score','Test score'])\n",
        "plt.title('Models vs score', fontsize = 20)\n",
        "plt.xlabel('Models', fontsize = 15)\n",
        "plt.ylabel('Score', fontsize = 15)\n",
        "plt.grid()\n",
        "plt.show()"
      ]
    },
    {
      "cell_type": "code",
      "execution_count": null,
      "metadata": {
        "colab": {
          "background_save": true
        },
        "id": "l0h-ROdiwqzS",
        "outputId": "03d178b1-a889-431e-ae4b-61fb402e7e8e"
      },
      "outputs": [
        {
          "data": {
            "image/png": "[encoded data removed]",
            "text/plain": [
              "<Figure size 432x288 with 1 Axes>"
            ]
          },
          "metadata": {},
          "output_type": "display_data"
        }
      ],
      "source": [
        "plt.bar(x, result['Train score'], color ='green',width = 0.4)\n",
        "plt.xticks(x, result.Classifiers.values.tolist())\n",
        "plt.legend(['Test score'])\n",
        "plt.xticks(rotation=90)\n",
        "plt.grid()\n",
        "plt.show()"
      ]
    },
    {
      "cell_type": "code",
      "execution_count": null,
      "metadata": {
        "colab": {
          "background_save": true
        },
        "id": "Cf1Ss8FZz8Zb"
      },
      "outputs": [],
      "source": []
    }
  ],
  "metadata": {
    "accelerator": "GPU",
    "colab": {
      "provenance": [],
      "include_colab_link": true
    },
    "gpuClass": "standard",
    "kernelspec": {
      "display_name": "Python 3",
      "name": "python3"
    },
    "language_info": {
      "name": "python"
    }
  },
  "nbformat": 4,
  "nbformat_minor": 0
}